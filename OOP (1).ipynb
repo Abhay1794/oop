{
  "nbformat": 4,
  "nbformat_minor": 0,
  "metadata": {
    "colab": {
      "provenance": []
    },
    "kernelspec": {
      "name": "python3",
      "display_name": "Python 3"
    },
    "language_info": {
      "name": "python"
    }
  },
  "cells": [
    {
      "cell_type": "code",
      "execution_count": null,
      "metadata": {
        "id": "COgLQbEuLXF5"
      },
      "outputs": [],
      "source": [
        "# 1. What are the five key concepts of Object-Oriented Programming (OOP)\n",
        "\n",
        "#class\n",
        "#object\n",
        "#Encapsulation\n",
        "#inhritance\n",
        "#Polymorphism\n",
        "\n",
        "\n",
        "\n"
      ]
    },
    {
      "cell_type": "code",
      "source": [],
      "metadata": {
        "id": "DICioZBBN86Z"
      },
      "execution_count": null,
      "outputs": []
    },
    {
      "cell_type": "code",
      "source": [
        "from os import makedev\n",
        "# 2. Write a Python class for a `Car` with attributes for `make`, `model`, and `year`. Include a method to display\n",
        "# the car's information\n",
        "\n",
        "class Car:\n",
        "    def __init__(self, make, model, year):\n",
        "        self.make = make\n",
        "        self.model = model\n",
        "        self.year = year\n",
        "\n",
        "        def display_info(self):\n",
        "            print(f\"car information: {self.make}{self.model}{self.year}\")\n",
        "\n",
        "            c1 = Car(\"BMW\", \"X6\", \"2008\")\n",
        "            c1.display_info(make)\n",
        "\n"
      ],
      "metadata": {
        "id": "tWSrOIspL_nk"
      },
      "execution_count": 11,
      "outputs": []
    },
    {
      "cell_type": "code",
      "source": [
        "# 3. Explain the difference between instance methods and class methods. Provide an example\n",
        "\n",
        "#class method\n",
        "\n",
        "#bound to the class access/modify and attributes associated to the class across all the instances\n",
        "# we use @classmethod\n",
        "#instead of self, we use cls as first parameter\n",
        "#alternative of init method to pass the data\n",
        "\n",
        "#example:\n",
        "class Student:\n",
        "    def __init__(self, name, age):\n",
        "        self.name = name\n",
        "        self.age = age\n",
        "\n",
        "    @classmethod\n",
        "    def student_details(cls, name, age):\n",
        "        return cls(name, age)\n",
        "\n",
        "        obj1 = Student.student_details(\"Gopi\", 20)\n",
        "        print(obj1.name, obj1.age)\n",
        "\n",
        "\n",
        "#instance method\n",
        "\n",
        "# an instance method is a function defined within a class that operates on instances of that class.\n",
        "# Instance methods can access and modify the attributes of the instance and can also call other methods defined within the class.\n",
        "\n",
        "class Car:\n",
        "    def __init__(self, brand):\n",
        "        self.brand = brand\n",
        "\n",
        "    def drive(self):\n",
        "        return f\"The {self.brand} is driving.\"\n",
        "\n",
        "my_car = Car(\"Toyota\")\n",
        "print(my_car.drive())\n"
      ],
      "metadata": {
        "id": "FQ65BJNpQvsg",
        "colab": {
          "base_uri": "https://localhost:8080/"
        },
        "outputId": "47bd057f-f899-4fb8-fb71-b154359ca4c6"
      },
      "execution_count": 5,
      "outputs": [
        {
          "output_type": "stream",
          "name": "stdout",
          "text": [
            "The Toyota is driving.\n"
          ]
        }
      ]
    },
    {
      "cell_type": "code",
      "source": [
        "#4. How does Python implement method overloading? Give an example\n",
        "\n",
        "#example:\n",
        "\n",
        "class Student:\n",
        "  def student(self):\n",
        "    print(\"Welcome to pw skills class\")\n",
        "  def student(self,name = \" \"):\n",
        "    print(\"Welcome to pw skills class\", name)\n",
        "  def student(self,name = \" \", course = \" \"):\n",
        "    print(\"Welcome to pw skills class\", name , course)\n",
        "\n",
        "    stud = Student()\n",
        "    stud.student()\n",
        "    stud.student(\"Darshi\")\n",
        "    stud.student(\"Darshi\", \"Data Science\")\n",
        "\n",
        "    #output:\n",
        "    #Welcome to pw skills class\n",
        "    #Welcome to pw skills class Darshi\n",
        "    #Welcome to pw skills class Darshi Data Science\n",
        "\n",
        "    #method overloading >> student method is taking different forms , the last methods overloads the previous ones in the same class\n",
        "\n",
        ""
      ],
      "metadata": {
        "id": "r--Ye7owcAxy"
      },
      "execution_count": 17,
      "outputs": []
    },
    {
      "cell_type": "code",
      "source": [
        "#5. What are the three types of access modifiers in Python? How are they denoted?\n",
        "\n",
        "# the three types of access modifiers are public , private , protected\n",
        "\n",
        "# accessing the public data member inside the other method of same class\n",
        "\n",
        "class Student:\n",
        "    def __init__(self, name, age):\n",
        "        self.name = name\n",
        "        self.age = age\n",
        "\n",
        "    def show(self):\n",
        "      print(\"name\", self.name , \"age\" , self.age)\n",
        "\n",
        "      aj = Student (\"premchandra\" , 20)\n",
        "      aj.show\n",
        "\n",
        "      #output:\n",
        "      #name premchandra age 20"
      ],
      "metadata": {
        "id": "PxdhVFKUiv-Z"
      },
      "execution_count": 25,
      "outputs": []
    },
    {
      "cell_type": "code",
      "source": [
        "#6. Describe the five types of inheritance in Python. Provide a simple example of multiple inheritance\n",
        "\n",
        "   #five types of inheritane are\n",
        "   #single inheritance\n",
        "   #multilevel inheritance\n",
        "   #multiple inheritance\n",
        "   #hierarchical inheritance\n",
        "   #hybrid inheritance\n",
        "\n",
        "   #example of multiple inheritance\n",
        "   #when a class is derived from more than one base class\n",
        "\n",
        "class ParentClass1:\n",
        "   def method1(self):\n",
        "        print(\"Method from ParentClass1\")\n",
        "\n",
        "class ParentClass2:\n",
        "   def method2(self):\n",
        "        print(\"Method from ParentClass2\")\n",
        "\n",
        "class ChildClass(ParentClass1, ParentClass2):\n",
        "   def method3(self):\n",
        "      print(\"Method from ChildClass\")\n",
        "\n",
        "      c1= ChildClass()\n",
        "      c1.method1()\n",
        "      c1.method2()\n",
        "      c1.method3()\n",
        "\n",
        "      #output:\n",
        "      #Method from ParentClass1\n",
        "      #Method from ParentClass2\n",
        "      #Method from ChildClass"
      ],
      "metadata": {
        "id": "psOan0jQmh_5"
      },
      "execution_count": 33,
      "outputs": []
    },
    {
      "cell_type": "code",
      "source": [
        "# 7. What is the Method Resolution Order (MRO) in Python? How can you retrieve it programmatically\n",
        "\n",
        " #  The Method Resolution Order (MRO) in Python is simply the order in which Python checks classes to find\n",
        " # a method or attribute when you call it on an object.\n",
        "\n",
        "class A:\n",
        "    def method(self):\n",
        "        print(\"Method in A\")\n",
        "\n",
        "class B(A):\n",
        "    def method(self):\n",
        "        print(\"Method in B\")\n",
        "\n",
        "class C(A):\n",
        "    def method(self):\n",
        "        print(\"Method in C\")\n",
        "\n",
        "class D(B, C):\n",
        "    pass\n",
        "\n",
        "\n",
        "d = D()\n",
        "d.method()\n",
        ""
      ],
      "metadata": {
        "colab": {
          "base_uri": "https://localhost:8080/"
        },
        "id": "rVTURkX1pYYM",
        "outputId": "e2b19769-63b1-456e-d043-ba67cb00fe86"
      },
      "execution_count": 35,
      "outputs": [
        {
          "output_type": "stream",
          "name": "stdout",
          "text": [
            "Method in B\n"
          ]
        }
      ]
    },
    {
      "cell_type": "code",
      "source": [
        "#. Create an abstract base class `Shape` with an abstract method `area()`. Then create two subclasses\n",
        "#`Circle` and `Rectangle` that implement the `area()` method\n",
        "\n",
        "\n",
        "from abc import ABC, abstractmethod\n",
        "import math\n",
        "\n",
        "class Shape(ABC):\n",
        "\n",
        "    @abstractmethod\n",
        "    def area(self):\n",
        "        pass\n",
        "\n",
        "class Circle(Shape):\n",
        "\n",
        "    def __init__(self, radius):\n",
        "        self.radius = radius\n",
        "\n",
        "    def area(self):\n",
        "        return math.pi * self.radius ** 2\n",
        "\n",
        "class Rectangle(Shape):\n",
        "\n",
        "    def __init__(self, width, height):\n",
        "        self.width = width\n",
        "        self.height = height\n",
        "\n",
        "\n",
        "    def area(self):\n",
        "        return self.width * self.height\n",
        "\n",
        "\n",
        "circle = Circle(5)\n",
        "rectangle = Rectangle(4, 6)\n",
        "\n",
        "print(\"Area of Circle:\", circle.area())\n",
        "print(\"Area of Rectangle:\", rectangle.area())\n"
      ],
      "metadata": {
        "colab": {
          "base_uri": "https://localhost:8080/"
        },
        "id": "RiFsfl5PCQxY",
        "outputId": "84fa9b7f-42c9-4c11-db9a-f8fb9991785b"
      },
      "execution_count": 36,
      "outputs": [
        {
          "output_type": "stream",
          "name": "stdout",
          "text": [
            "Area of Circle: 78.53981633974483\n",
            "Area of Rectangle: 24\n"
          ]
        }
      ]
    },
    {
      "cell_type": "code",
      "source": [
        "# Implement encapsulation in a `BankAccount` class with private attributes for `balance` and\n",
        "# `account_number`. Include methods for deposit, withdrawal, and balance inquiry\n",
        "\n",
        "class Bank:\n",
        "  def __init__(self,balance):\n",
        "    self.__balance = __balance\n",
        "  def deposit (self, amount):\n",
        "    self.__balance = self.__balance + amount\n",
        "\n",
        "  def withdraw (self, amount):\n",
        "    if self.__balance >= amount:\n",
        "      self.__balance = self.__balance - amount\n",
        "      return True\n",
        "    else:\n",
        "      return False\n",
        "\n",
        "  def get_balance(self):\n",
        "    return self.__balance\n",
        ""
      ],
      "metadata": {
        "id": "OkTJknOLHGlt"
      },
      "execution_count": 66,
      "outputs": []
    },
    {
      "cell_type": "code",
      "source": [
        "# Explain the concept of the Diamond Problem in multiple inheritance. How does Python resolve it?\n",
        "\n",
        "#diamond problem >> it occurs when a class inherits from 2 or more than 2 class>> will lead to ambiguity in execution of methods\n",
        "#to remove diamond problem>> python uses method resolution order (MRO) algorithm called C3 linearization\n",
        "\n",
        "class A:\n",
        "  def method (self):\n",
        "    print(\"Method from class A\")\n",
        "\n",
        "class B(A):\n",
        "  def method(self):\n",
        "    print(\"Method from class B\")\n",
        "\n",
        "class C(A):\n",
        "  def method(self):\n",
        "    print(\"Method from class C\")\n",
        "\n",
        "class D(B, C):\n",
        "  pass\n",
        "\n",
        "d = D()\n",
        "d.method()\n"
      ],
      "metadata": {
        "colab": {
          "base_uri": "https://localhost:8080/"
        },
        "id": "KbMYC5JzRH1A",
        "outputId": "a03f9b0e-acd1-45a9-d56d-d8aed3bd1672"
      },
      "execution_count": 67,
      "outputs": [
        {
          "output_type": "stream",
          "name": "stdout",
          "text": [
            "Method from class B\n"
          ]
        }
      ]
    },
    {
      "cell_type": "code",
      "source": [
        "# Write a class method that keeps track of the number of instances created from a class\n",
        "\n",
        "class InstanceCounter:\n",
        "    _instance_count = 0\n",
        "\n",
        "    def __init__(self):\n",
        "        InstanceCounter._instance_count += 1\n",
        "\n",
        "    @classmethod\n",
        "    def get_instance_count(cls):\n",
        "        return cls._instance_count\n",
        "\n",
        "obj1 = InstanceCounter()\n",
        "obj2 = InstanceCounter()\n",
        "obj3 = InstanceCounter()\n",
        "\n",
        "print(\"Number of instances created:\", InstanceCounter.get_instance_count())\n",
        "\n"
      ],
      "metadata": {
        "colab": {
          "base_uri": "https://localhost:8080/"
        },
        "id": "grsRFT4lSrxK",
        "outputId": "3152e9c4-76ce-4401-8ff5-fe9ab84278d7"
      },
      "execution_count": 68,
      "outputs": [
        {
          "output_type": "stream",
          "name": "stdout",
          "text": [
            "Number of instances created: 3\n"
          ]
        }
      ]
    }
  ]
}